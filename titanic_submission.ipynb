{
  "cells": [
    {
      "cell_type": "code",
      "execution_count": 24,
      "metadata": {
        "id": "vV-wm2iTPght"
      },
      "outputs": [],
      "source": [
        "#ライブラリの読み込み\n",
        "import pandas as pd\n",
        "import numpy as np\n",
        "from pandas import DataFrame, Series\n",
        "import matplotlib.pyplot as plt\n",
        "import seaborn as sns\n",
        "\n",
        "from sklearn.model_selection import train_test_split, GridSearchCV\n",
        "from sklearn.ensemble import RandomForestClassifier\n",
        "from sklearn.linear_model import LogisticRegression\n",
        "from sklearn.neural_network import MLPClassifier\n",
        "\n",
        "import warnings\n",
        "warnings.filterwarnings('ignore')"
      ]
    },
    {
      "cell_type": "code",
      "execution_count": 25,
      "metadata": {
        "id": "G-c5uOl0PiES"
      },
      "outputs": [],
      "source": [
        "df = pd.read_csv('train.csv')\n",
        "df_test = pd.read_csv('test.csv')"
      ]
    },
    {
      "cell_type": "code",
      "execution_count": 26,
      "metadata": {
        "colab": {
          "base_uri": "https://localhost:8080/"
        },
        "id": "9_jGwgZnU7F8",
        "outputId": "6ce8ccdf-a14e-4acf-b20f-f2cb94454115"
      },
      "outputs": [
        {
          "name": "stdout",
          "output_type": "stream",
          "text": [
            "PassengerId      0\n",
            "Survived         0\n",
            "Pclass           0\n",
            "Name             0\n",
            "Sex              0\n",
            "Age              0\n",
            "SibSp            0\n",
            "Parch            0\n",
            "Ticket           0\n",
            "Fare             0\n",
            "Cabin          687\n",
            "Embarked         2\n",
            "dtype: int64\n"
          ]
        }
      ],
      "source": [
        "#Age, Fareの欠損値を平均値で保管\n",
        "age = pd.concat([df['Age'], df_test['Age']])\n",
        "fare = pd.concat([df['Fare'], df_test['Fare']])\n",
        "\n",
        "df['Age'].fillna(age.mean(), inplace=True)\n",
        "df_test['Age'].fillna(age.mean(), inplace=True)\n",
        "\n",
        "df['Fare'].fillna(fare.mean(), inplace=True)\n",
        "df_test['Fare'].fillna(fare.mean(), inplace=True)\n",
        "\n",
        "print(df.isnull().sum())"
      ]
    },
    {
      "cell_type": "code",
      "execution_count": 27,
      "metadata": {
        "colab": {
          "base_uri": "https://localhost:8080/"
        },
        "id": "-N0aAxaP3RQh",
        "outputId": "0e8681ed-2091-4f63-f873-5462286068ad"
      },
      "outputs": [
        {
          "name": "stdout",
          "output_type": "stream",
          "text": [
            "PassengerId    0\n",
            "Survived       0\n",
            "Pclass         0\n",
            "Name           0\n",
            "Sex            0\n",
            "Age            0\n",
            "SibSp          0\n",
            "Parch          0\n",
            "Ticket         0\n",
            "Fare           0\n",
            "Embarked       2\n",
            "dtype: int64\n"
          ]
        }
      ],
      "source": [
        "#欠損値の多いCabinはdrop\n",
        "df.drop('Cabin', axis=1, inplace=True)\n",
        "df_test.drop('Cabin', axis=1, inplace=True)\n",
        "\n",
        "print(df.isnull().sum())"
      ]
    },
    {
      "cell_type": "code",
      "execution_count": 28,
      "metadata": {
        "colab": {
          "base_uri": "https://localhost:8080/"
        },
        "id": "9AfGaDvD3aPg",
        "outputId": "604f9019-a593-43fd-a0c3-1592532561fa"
      },
      "outputs": [
        {
          "name": "stdout",
          "output_type": "stream",
          "text": [
            "PassengerId    0\n",
            "Survived       0\n",
            "Pclass         0\n",
            "Name           0\n",
            "Sex            0\n",
            "Age            0\n",
            "SibSp          0\n",
            "Parch          0\n",
            "Ticket         0\n",
            "Fare           0\n",
            "Embarked       0\n",
            "dtype: int64\n"
          ]
        }
      ],
      "source": [
        "#Embarkedについては割合の大きいSouthamptonで補完\n",
        "df['Embarked'].fillna('S', inplace=True)\n",
        "df_test['Embarked'].fillna('S', inplace=True)\n",
        "\n",
        "print(df.isnull().sum())"
      ]
    },
    {
      "cell_type": "code",
      "execution_count": 29,
      "metadata": {
        "colab": {
          "base_uri": "https://localhost:8080/"
        },
        "id": "uMR6jScDVbtr",
        "outputId": "178eed27-8d68-48ac-c8d2-50f6e42c8e1a"
      },
      "outputs": [
        {
          "name": "stdout",
          "output_type": "stream",
          "text": [
            "Index(['PassengerId', 'Survived', 'Pclass', 'Sex', 'Age', 'SibSp', 'Parch',\n",
            "       'Fare', 'Embarked'],\n",
            "      dtype='object')\n"
          ]
        }
      ],
      "source": [
        "#今回はNameとTicketはdrop\n",
        "df.drop('Name', axis=1, inplace=True)\n",
        "df_test.drop('Name', axis=1, inplace=True)\n",
        "\n",
        "df.drop('Ticket', axis=1, inplace=True)\n",
        "df_test.drop('Ticket', axis=1, inplace=True)\n",
        "\n",
        "print(df.columns)"
      ]
    },
    {
      "cell_type": "code",
      "execution_count": 30,
      "metadata": {
        "colab": {
          "base_uri": "https://localhost:8080/"
        },
        "id": "-09ofQBP3q97",
        "outputId": "0210f191-8cda-4814-b8e4-7224be3678c3"
      },
      "outputs": [
        {
          "name": "stdout",
          "output_type": "stream",
          "text": [
            "   PassengerId  Survived  Pclass  Sex   Age  SibSp  Parch     Fare Embarked\n",
            "0            1         0       3    0  22.0      1      0   7.2500        S\n",
            "1            2         1       1    1  38.0      1      0  71.2833        C\n",
            "2            3         1       3    1  26.0      0      0   7.9250        S\n",
            "3            4         1       1    1  35.0      1      0  53.1000        S\n",
            "4            5         0       3    0  35.0      0      0   8.0500        S\n"
          ]
        }
      ],
      "source": [
        "#Sexは01に数値化\n",
        "df.replace({'Sex': {'male': 0, 'female': 1}}, inplace=True)\n",
        "df_test.replace({'Sex': {'male': 0, 'female': 1}}, inplace=True)\n",
        "\n",
        "print(df.head())"
      ]
    },
    {
      "cell_type": "code",
      "execution_count": 31,
      "metadata": {
        "colab": {
          "base_uri": "https://localhost:8080/"
        },
        "id": "pWWen9Bj327H",
        "outputId": "b0ff2af7-bbbc-4ca7-a6d0-1e83adbf3145"
      },
      "outputs": [
        {
          "name": "stdout",
          "output_type": "stream",
          "text": [
            "   PassengerId  Survived  Pclass  Sex   Age  SibSp  Parch     Fare      C  \\\n",
            "0            1         0       3    0  22.0      1      0   7.2500  False   \n",
            "1            2         1       1    1  38.0      1      0  71.2833   True   \n",
            "2            3         1       3    1  26.0      0      0   7.9250  False   \n",
            "3            4         1       1    1  35.0      1      0  53.1000  False   \n",
            "4            5         0       3    0  35.0      0      0   8.0500  False   \n",
            "\n",
            "       Q      S  \n",
            "0  False   True  \n",
            "1  False  False  \n",
            "2  False   True  \n",
            "3  False   True  \n",
            "4  False   True  \n"
          ]
        }
      ],
      "source": [
        "#EmberkedはOne-Hot Encodingで変換。\n",
        "embarked = pd.concat([df['Embarked'], df_test['Embarked']])\n",
        "\n",
        "embarked_ohe = pd.get_dummies(embarked)\n",
        "\n",
        "embarked_ohe_train = embarked_ohe[:891]\n",
        "embarked_ohe_test = embarked_ohe[891:]\n",
        "\n",
        "df = pd.concat([df, embarked_ohe_train], axis=1)\n",
        "df_test = pd.concat([df_test, embarked_ohe_test], axis=1)\n",
        "\n",
        "df.drop('Embarked', axis=1, inplace=True)\n",
        "df_test.drop('Embarked', axis=1, inplace=True)\n",
        "\n",
        "print(df.head())"
      ]
    },
    {
      "cell_type": "code",
      "execution_count": 32,
      "metadata": {
        "id": "mrIGZg9fVuo6"
      },
      "outputs": [],
      "source": [
        "#説明変数及び目的変数を抽出\n",
        "X = df.iloc[:, 2:].values\n",
        "y = df.iloc[:, 1].values\n",
        "\n",
        "X_test = df_test.iloc[:, 1:].values"
      ]
    },
    {
      "cell_type": "code",
      "execution_count": 33,
      "metadata": {
        "id": "Am_MGU_yWcCn"
      },
      "outputs": [],
      "source": [
        "#説明変数Xと目的変数yを7:3で学習用と検証用とに分割\n",
        "X_train, X_valid, y_train, y_valid = train_test_split(X, y, test_size=0.3, random_state=42)"
      ]
    },
    {
      "cell_type": "code",
      "execution_count": 34,
      "metadata": {
        "colab": {
          "base_uri": "https://localhost:8080/"
        },
        "id": "IvpgX40afMdS",
        "outputId": "72ef5141-4288-4496-d496-b9225323a635"
      },
      "outputs": [
        {
          "name": "stdout",
          "output_type": "stream",
          "text": [
            "RandomForestClassifier(max_depth=10, n_jobs=-1, random_state=42)\n"
          ]
        }
      ],
      "source": [
        "#ランダムフォレスト分類気を作成\n",
        "rfc = RandomForestClassifier(max_depth=10, min_samples_leaf=1, n_estimators=100, n_jobs=-1, random_state=42)\n",
        "rfc.fit(X_train, y_train)\n",
        "print(rfc)"
      ]
    },
    {
      "cell_type": "code",
      "execution_count": 35,
      "metadata": {
        "colab": {
          "base_uri": "https://localhost:8080/"
        },
        "id": "jr29MB_efO0Y",
        "outputId": "8df41820-1c8c-4440-9919-efa7e70261d1"
      },
      "outputs": [
        {
          "name": "stdout",
          "output_type": "stream",
          "text": [
            "Train Score: 0.953\n",
            " Test Score: 0.791\n"
          ]
        }
      ],
      "source": [
        "#学習データに対するモデルの正答率(過学習の有無を確認)\n",
        "print('Train Score: {}'.format(round(rfc.score(X_train, y_train), 3)))\n",
        "#検証データに対するモデルの正答率(汎化性能を確認)\n",
        "print(' Test Score: {}'.format(round(rfc.score(X_valid, y_valid), 3)))"
      ]
    },
    {
      "cell_type": "code",
      "execution_count": 36,
      "metadata": {
        "colab": {
          "base_uri": "https://localhost:8080/"
        },
        "id": "9PqTTZf2fTM5",
        "outputId": "43c5869c-0d5f-4909-8b9f-3f285e92ba27"
      },
      "outputs": [
        {
          "name": "stdout",
          "output_type": "stream",
          "text": [
            "max_depth: 3, min_samples_leaf: 1\n",
            "    Train Score: 0.844, Test Score: 0.821\n",
            "max_depth: 3, min_samples_leaf: 2\n",
            "    Train Score: 0.844, Test Score: 0.821\n",
            "max_depth: 3, min_samples_leaf: 4\n",
            "    Train Score: 0.844, Test Score: 0.817\n",
            "max_depth: 5, min_samples_leaf: 1\n",
            "    Train Score: 0.88, Test Score: 0.821\n",
            "max_depth: 5, min_samples_leaf: 2\n",
            "    Train Score: 0.867, Test Score: 0.806\n",
            "max_depth: 5, min_samples_leaf: 4\n",
            "    Train Score: 0.864, Test Score: 0.802\n",
            "max_depth: 7, min_samples_leaf: 1\n",
            "    Train Score: 0.899, Test Score: 0.81\n",
            "max_depth: 7, min_samples_leaf: 2\n",
            "    Train Score: 0.889, Test Score: 0.787\n",
            "max_depth: 7, min_samples_leaf: 4\n",
            "    Train Score: 0.876, Test Score: 0.791\n"
          ]
        }
      ],
      "source": [
        "#ハイパーパラメータのグリッドサーチ\n",
        "param_grid = {'max_depth': [3, 5, 7],\n",
        "              'min_samples_leaf': [1, 2, 4]}\n",
        "\n",
        "#3*3の組み合わせでモデルを学習・評価\n",
        "for max_depth in param_grid['max_depth']:\n",
        "    for min_samples_leaf in param_grid['min_samples_leaf']:\n",
        "        rfc_grid = RandomForestClassifier(max_depth=max_depth, min_samples_leaf=min_samples_leaf,\n",
        "                                            n_estimators=100, n_jobs=-1, random_state=42)\n",
        "        rfc_grid.fit(X_train, y_train)\n",
        "        print('max_depth: {}, min_samples_leaf: {}'.format(max_depth, min_samples_leaf))\n",
        "        print('    Train Score: {}, Test Score: {}'.format(round(rfc_grid.score(X_train, y_train), 3),\n",
        "                                                           round(rfc_grid.score(X_valid, y_valid), 3)))"
      ]
    },
    {
      "cell_type": "code",
      "execution_count": 37,
      "metadata": {
        "colab": {
          "base_uri": "https://localhost:8080/"
        },
        "id": "8qKAJZMXD46_",
        "outputId": "e2a92445-4092-4b0b-a4bc-e1b8c8fe9bef"
      },
      "outputs": [
        {
          "name": "stdout",
          "output_type": "stream",
          "text": [
            "Best Parameters: {'max_depth': 7, 'min_samples_leaf': 2}\n",
            "CV Score: 0.824\n"
          ]
        }
      ],
      "source": [
        "# ランダムフォレストのハイパーパラメータをグリッドサーチで最適化（5分割クロスバリデーション）\n",
        "rfc_gs = GridSearchCV(RandomForestClassifier(n_estimators=100, n_jobs=-1, random_state=42), param_grid, cv=5)\n",
        "rfc_gs.fit(X, y)\n",
        "\n",
        "print('Best Parameters: {}'.format(rfc_gs.best_params_))\n",
        "print('CV Score: {}'.format(round(rfc_gs.best_score_, 3)))"
      ]
    },
    {
      "cell_type": "code",
      "execution_count": 38,
      "metadata": {
        "colab": {
          "base_uri": "https://localhost:8080/",
          "height": 383
        },
        "id": "LSdbhnJOEGGp",
        "outputId": "f82832f5-8860-42f1-e4e4-d63f4f8c80c6"
      },
      "outputs": [
        {
          "data": {
            "text/html": [
              "<div>\n",
              "<style scoped>\n",
              "    .dataframe tbody tr th:only-of-type {\n",
              "        vertical-align: middle;\n",
              "    }\n",
              "\n",
              "    .dataframe tbody tr th {\n",
              "        vertical-align: top;\n",
              "    }\n",
              "\n",
              "    .dataframe thead th {\n",
              "        text-align: right;\n",
              "    }\n",
              "</style>\n",
              "<table border=\"1\" class=\"dataframe\">\n",
              "  <thead>\n",
              "    <tr style=\"text-align: right;\">\n",
              "      <th></th>\n",
              "      <th>PassengerId</th>\n",
              "      <th>Survived</th>\n",
              "      <th>Pclass</th>\n",
              "      <th>Sex</th>\n",
              "      <th>Age</th>\n",
              "      <th>SibSp</th>\n",
              "      <th>Parch</th>\n",
              "      <th>Fare</th>\n",
              "      <th>C</th>\n",
              "      <th>Q</th>\n",
              "      <th>S</th>\n",
              "      <th>Family</th>\n",
              "    </tr>\n",
              "  </thead>\n",
              "  <tbody>\n",
              "    <tr>\n",
              "      <th>0</th>\n",
              "      <td>1</td>\n",
              "      <td>0</td>\n",
              "      <td>3</td>\n",
              "      <td>0</td>\n",
              "      <td>22.000000</td>\n",
              "      <td>1</td>\n",
              "      <td>0</td>\n",
              "      <td>7.2500</td>\n",
              "      <td>False</td>\n",
              "      <td>False</td>\n",
              "      <td>True</td>\n",
              "      <td>1</td>\n",
              "    </tr>\n",
              "    <tr>\n",
              "      <th>1</th>\n",
              "      <td>2</td>\n",
              "      <td>1</td>\n",
              "      <td>1</td>\n",
              "      <td>1</td>\n",
              "      <td>38.000000</td>\n",
              "      <td>1</td>\n",
              "      <td>0</td>\n",
              "      <td>71.2833</td>\n",
              "      <td>True</td>\n",
              "      <td>False</td>\n",
              "      <td>False</td>\n",
              "      <td>1</td>\n",
              "    </tr>\n",
              "    <tr>\n",
              "      <th>2</th>\n",
              "      <td>3</td>\n",
              "      <td>1</td>\n",
              "      <td>3</td>\n",
              "      <td>1</td>\n",
              "      <td>26.000000</td>\n",
              "      <td>0</td>\n",
              "      <td>0</td>\n",
              "      <td>7.9250</td>\n",
              "      <td>False</td>\n",
              "      <td>False</td>\n",
              "      <td>True</td>\n",
              "      <td>0</td>\n",
              "    </tr>\n",
              "    <tr>\n",
              "      <th>3</th>\n",
              "      <td>4</td>\n",
              "      <td>1</td>\n",
              "      <td>1</td>\n",
              "      <td>1</td>\n",
              "      <td>35.000000</td>\n",
              "      <td>1</td>\n",
              "      <td>0</td>\n",
              "      <td>53.1000</td>\n",
              "      <td>False</td>\n",
              "      <td>False</td>\n",
              "      <td>True</td>\n",
              "      <td>1</td>\n",
              "    </tr>\n",
              "    <tr>\n",
              "      <th>4</th>\n",
              "      <td>5</td>\n",
              "      <td>0</td>\n",
              "      <td>3</td>\n",
              "      <td>0</td>\n",
              "      <td>35.000000</td>\n",
              "      <td>0</td>\n",
              "      <td>0</td>\n",
              "      <td>8.0500</td>\n",
              "      <td>False</td>\n",
              "      <td>False</td>\n",
              "      <td>True</td>\n",
              "      <td>0</td>\n",
              "    </tr>\n",
              "    <tr>\n",
              "      <th>5</th>\n",
              "      <td>6</td>\n",
              "      <td>0</td>\n",
              "      <td>3</td>\n",
              "      <td>0</td>\n",
              "      <td>29.881138</td>\n",
              "      <td>0</td>\n",
              "      <td>0</td>\n",
              "      <td>8.4583</td>\n",
              "      <td>False</td>\n",
              "      <td>True</td>\n",
              "      <td>False</td>\n",
              "      <td>0</td>\n",
              "    </tr>\n",
              "    <tr>\n",
              "      <th>6</th>\n",
              "      <td>7</td>\n",
              "      <td>0</td>\n",
              "      <td>1</td>\n",
              "      <td>0</td>\n",
              "      <td>54.000000</td>\n",
              "      <td>0</td>\n",
              "      <td>0</td>\n",
              "      <td>51.8625</td>\n",
              "      <td>False</td>\n",
              "      <td>False</td>\n",
              "      <td>True</td>\n",
              "      <td>0</td>\n",
              "    </tr>\n",
              "    <tr>\n",
              "      <th>7</th>\n",
              "      <td>8</td>\n",
              "      <td>0</td>\n",
              "      <td>3</td>\n",
              "      <td>0</td>\n",
              "      <td>2.000000</td>\n",
              "      <td>3</td>\n",
              "      <td>1</td>\n",
              "      <td>21.0750</td>\n",
              "      <td>False</td>\n",
              "      <td>False</td>\n",
              "      <td>True</td>\n",
              "      <td>4</td>\n",
              "    </tr>\n",
              "    <tr>\n",
              "      <th>8</th>\n",
              "      <td>9</td>\n",
              "      <td>1</td>\n",
              "      <td>3</td>\n",
              "      <td>1</td>\n",
              "      <td>27.000000</td>\n",
              "      <td>0</td>\n",
              "      <td>2</td>\n",
              "      <td>11.1333</td>\n",
              "      <td>False</td>\n",
              "      <td>False</td>\n",
              "      <td>True</td>\n",
              "      <td>2</td>\n",
              "    </tr>\n",
              "    <tr>\n",
              "      <th>9</th>\n",
              "      <td>10</td>\n",
              "      <td>1</td>\n",
              "      <td>2</td>\n",
              "      <td>1</td>\n",
              "      <td>14.000000</td>\n",
              "      <td>1</td>\n",
              "      <td>0</td>\n",
              "      <td>30.0708</td>\n",
              "      <td>True</td>\n",
              "      <td>False</td>\n",
              "      <td>False</td>\n",
              "      <td>1</td>\n",
              "    </tr>\n",
              "  </tbody>\n",
              "</table>\n",
              "</div>"
            ],
            "text/plain": [
              "   PassengerId  Survived  Pclass  Sex        Age  SibSp  Parch     Fare  \\\n",
              "0            1         0       3    0  22.000000      1      0   7.2500   \n",
              "1            2         1       1    1  38.000000      1      0  71.2833   \n",
              "2            3         1       3    1  26.000000      0      0   7.9250   \n",
              "3            4         1       1    1  35.000000      1      0  53.1000   \n",
              "4            5         0       3    0  35.000000      0      0   8.0500   \n",
              "5            6         0       3    0  29.881138      0      0   8.4583   \n",
              "6            7         0       1    0  54.000000      0      0  51.8625   \n",
              "7            8         0       3    0   2.000000      3      1  21.0750   \n",
              "8            9         1       3    1  27.000000      0      2  11.1333   \n",
              "9           10         1       2    1  14.000000      1      0  30.0708   \n",
              "\n",
              "       C      Q      S  Family  \n",
              "0  False  False   True       1  \n",
              "1   True  False  False       1  \n",
              "2  False  False   True       0  \n",
              "3  False  False   True       1  \n",
              "4  False  False   True       0  \n",
              "5  False   True  False       0  \n",
              "6  False  False   True       0  \n",
              "7  False  False   True       4  \n",
              "8  False  False   True       2  \n",
              "9   True  False  False       1  "
            ]
          },
          "execution_count": 38,
          "metadata": {},
          "output_type": "execute_result"
        }
      ],
      "source": [
        "# 家族の合計人数（SibSp + Parch）を表す新しい特徴量 'Family' を作成\n",
        "df_fe = df.copy()\n",
        "df_fe_test = df_test.copy()\n",
        "\n",
        "df_fe['Family'] = df['SibSp'] + df['Parch']\n",
        "df_fe_test['Family'] = df_test['SibSp'] + df_test['Parch']\n",
        "\n",
        "df_fe.head(10)"
      ]
    },
    {
      "cell_type": "code",
      "execution_count": 39,
      "metadata": {
        "colab": {
          "base_uri": "https://localhost:8080/"
        },
        "id": "12Z5ih4xEIOY",
        "outputId": "2d27cd81-a9d5-4dd4-ec7d-2da4d4b9a034"
      },
      "outputs": [
        {
          "name": "stdout",
          "output_type": "stream",
          "text": [
            "Train Score: 0.905\n",
            " Test Score: 0.802\n"
          ]
        }
      ],
      "source": [
        "#新たな特徴量'Family'をもとに再度ランダムフォレストを作成\n",
        "X_fe = df_fe.iloc[:, 2:].values\n",
        "y_fe = df_fe.iloc[:, 1].values\n",
        "\n",
        "X_fe_test = df_fe_test.iloc[:, 1:].values\n",
        "\n",
        "X_fe_train, X_fe_valid, y_fe_train, y_fe_valid = train_test_split(X_fe, y_fe, test_size=0.3, random_state=42)\n",
        "\n",
        "rfc_fe = RandomForestClassifier(max_depth=7, min_samples_leaf=1, n_estimators=100, n_jobs=-1, random_state=42)\n",
        "rfc_fe.fit(X_fe_train, y_fe_train)\n",
        "\n",
        "print('Train Score: {}'.format(round(rfc_fe.score(X_fe_train, y_fe_train), 3)))\n",
        "print(' Test Score: {}'.format(round(rfc_fe.score(X_fe_valid, y_fe_valid), 3)))"
      ]
    },
    {
      "cell_type": "code",
      "execution_count": 40,
      "metadata": {
        "colab": {
          "base_uri": "https://localhost:8080/"
        },
        "id": "GVheYQC5EJUk",
        "outputId": "6f7a997d-ca38-464e-e754-90603a43af88"
      },
      "outputs": [
        {
          "name": "stdout",
          "output_type": "stream",
          "text": [
            "Logistic Regression \n",
            "\n",
            "Train Score: 0.803\n",
            " Test Score: 0.81\n"
          ]
        }
      ],
      "source": [
        "# ロジスティック回帰でデータを分類し、精度を検証\n",
        "lr = LogisticRegression(random_state=42)\n",
        "lr.fit(X_train, y_train)\n",
        "\n",
        "print('Logistic Regression \\n')\n",
        "print('Train Score: {}'.format(round(lr.score(X_train, y_train), 3)))\n",
        "print(' Test Score: {}'.format(round(lr.score(X_valid, y_valid), 3)))"
      ]
    },
    {
      "cell_type": "code",
      "execution_count": 41,
      "metadata": {
        "colab": {
          "base_uri": "https://localhost:8080/"
        },
        "id": "FRzVqiyWEOlQ",
        "outputId": "bf1a78da-4d2b-4076-e43a-2672193a85dd"
      },
      "outputs": [
        {
          "name": "stdout",
          "output_type": "stream",
          "text": [
            "Multilayer Perceptron \n",
            "\n",
            "Train Score: 0.828\n",
            " Test Score: 0.802\n"
          ]
        }
      ],
      "source": [
        "#多層パーセプトロンでdataを分類し、精度を検証\n",
        "mlpc = MLPClassifier(hidden_layer_sizes=(100, 100, 10), random_state=0)\n",
        "mlpc.fit(X_train, y_train)\n",
        "\n",
        "print('Multilayer Perceptron \\n')\n",
        "print('Train Score: {}'.format(round(mlpc.score(X_train, y_train), 3)))\n",
        "print(' Test Score: {}'.format(round(mlpc.score(X_valid, y_valid), 3)))"
      ]
    },
    {
      "cell_type": "code",
      "execution_count": 42,
      "metadata": {
        "id": "7WfPMaQdERJw"
      },
      "outputs": [],
      "source": [
        "#3モデルの予測確率を平均し、アンサンブルで最終クラスを決定\n",
        "rfc_pred = rfc.predict_proba(X_test)\n",
        "lr_pred = lr.predict_proba(X_test)\n",
        "mlpc_pred = mlpc.predict_proba(X_test)\n",
        "\n",
        "pred_proba = (rfc_pred + lr_pred + mlpc_pred) / 3\n",
        "pred = pred_proba.argmax(axis=1)"
      ]
    },
    {
      "cell_type": "code",
      "execution_count": 43,
      "metadata": {
        "colab": {
          "base_uri": "https://localhost:8080/",
          "height": 423
        },
        "id": "5U6FBvTmfWnm",
        "outputId": "9fcf1593-45b4-4e42-917f-a737cfe4b729"
      },
      "outputs": [
        {
          "data": {
            "text/html": [
              "<div>\n",
              "<style scoped>\n",
              "    .dataframe tbody tr th:only-of-type {\n",
              "        vertical-align: middle;\n",
              "    }\n",
              "\n",
              "    .dataframe tbody tr th {\n",
              "        vertical-align: top;\n",
              "    }\n",
              "\n",
              "    .dataframe thead th {\n",
              "        text-align: right;\n",
              "    }\n",
              "</style>\n",
              "<table border=\"1\" class=\"dataframe\">\n",
              "  <thead>\n",
              "    <tr style=\"text-align: right;\">\n",
              "      <th></th>\n",
              "      <th>PassengerId</th>\n",
              "      <th>Survived</th>\n",
              "    </tr>\n",
              "  </thead>\n",
              "  <tbody>\n",
              "    <tr>\n",
              "      <th>0</th>\n",
              "      <td>892</td>\n",
              "      <td>0</td>\n",
              "    </tr>\n",
              "    <tr>\n",
              "      <th>1</th>\n",
              "      <td>893</td>\n",
              "      <td>1</td>\n",
              "    </tr>\n",
              "    <tr>\n",
              "      <th>2</th>\n",
              "      <td>894</td>\n",
              "      <td>0</td>\n",
              "    </tr>\n",
              "    <tr>\n",
              "      <th>3</th>\n",
              "      <td>895</td>\n",
              "      <td>0</td>\n",
              "    </tr>\n",
              "    <tr>\n",
              "      <th>4</th>\n",
              "      <td>896</td>\n",
              "      <td>1</td>\n",
              "    </tr>\n",
              "    <tr>\n",
              "      <th>...</th>\n",
              "      <td>...</td>\n",
              "      <td>...</td>\n",
              "    </tr>\n",
              "    <tr>\n",
              "      <th>413</th>\n",
              "      <td>1305</td>\n",
              "      <td>0</td>\n",
              "    </tr>\n",
              "    <tr>\n",
              "      <th>414</th>\n",
              "      <td>1306</td>\n",
              "      <td>1</td>\n",
              "    </tr>\n",
              "    <tr>\n",
              "      <th>415</th>\n",
              "      <td>1307</td>\n",
              "      <td>0</td>\n",
              "    </tr>\n",
              "    <tr>\n",
              "      <th>416</th>\n",
              "      <td>1308</td>\n",
              "      <td>0</td>\n",
              "    </tr>\n",
              "    <tr>\n",
              "      <th>417</th>\n",
              "      <td>1309</td>\n",
              "      <td>0</td>\n",
              "    </tr>\n",
              "  </tbody>\n",
              "</table>\n",
              "<p>418 rows × 2 columns</p>\n",
              "</div>"
            ],
            "text/plain": [
              "     PassengerId  Survived\n",
              "0            892         0\n",
              "1            893         1\n",
              "2            894         0\n",
              "3            895         0\n",
              "4            896         1\n",
              "..           ...       ...\n",
              "413         1305         0\n",
              "414         1306         1\n",
              "415         1307         0\n",
              "416         1308         0\n",
              "417         1309         0\n",
              "\n",
              "[418 rows x 2 columns]"
            ]
          },
          "execution_count": 43,
          "metadata": {},
          "output_type": "execute_result"
        }
      ],
      "source": [
        " # 読み込むデータが格納されたディレクトリのパス，必要に応じて変更の必要あり\n",
        "submission = pd.read_csv('gender_submission.csv')\n",
        "\n",
        "submission"
      ]
    },
    {
      "cell_type": "code",
      "execution_count": 44,
      "metadata": {
        "colab": {
          "base_uri": "https://localhost:8080/"
        },
        "id": "BO9buphpOX17",
        "outputId": "14707406-88bc-413c-f882-47ef2663df19"
      },
      "outputs": [
        {
          "data": {
            "text/plain": [
              "(418,)"
            ]
          },
          "execution_count": 44,
          "metadata": {},
          "output_type": "execute_result"
        }
      ],
      "source": [
        "pred.shape"
      ]
    },
    {
      "cell_type": "code",
      "execution_count": 46,
      "metadata": {
        "colab": {
          "base_uri": "https://localhost:8080/",
          "height": 423
        },
        "id": "ue0qto05Piwq",
        "outputId": "dd45f45a-32b0-4685-9df9-eed2f102a8d2"
      },
      "outputs": [],
      "source": [
        "# 予測を格納\n",
        "submission = pd.DataFrame({\n",
        "    'PassengerId': df_test['PassengerId'],  # test.csvのPassengerIdをそのまま使う\n",
        "    'Survived': pred                        # 予測した値（0または1）\n",
        "})\n",
        "\n",
        "# CSVとして保存\n",
        "submission.to_csv('submission.csv', index=False)\n"
      ]
    }
  ],
  "metadata": {
    "colab": {
      "provenance": []
    },
    "kernelspec": {
      "display_name": "Python 3",
      "name": "python3"
    },
    "language_info": {
      "codemirror_mode": {
        "name": "ipython",
        "version": 3
      },
      "file_extension": ".py",
      "mimetype": "text/x-python",
      "name": "python",
      "nbconvert_exporter": "python",
      "pygments_lexer": "ipython3",
      "version": "3.13.5"
    }
  },
  "nbformat": 4,
  "nbformat_minor": 0
}
